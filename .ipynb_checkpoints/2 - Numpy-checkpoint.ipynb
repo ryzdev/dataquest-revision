{
 "cells": [
  {
   "cell_type": "code",
   "execution_count": 3,
   "metadata": {
    "collapsed": false
   },
   "outputs": [],
   "source": [
    "# two dimensional array = matrix\n",
    "# numpy arrays need the same data type"
   ]
  },
  {
   "cell_type": "code",
   "execution_count": 1,
   "metadata": {
    "collapsed": false
   },
   "outputs": [
    {
     "data": {
      "text/plain": [
       "array([[             nan,              nan,              nan,\n",
       "                     nan,              nan],\n",
       "       [  1.98600000e+03,              nan,              nan,\n",
       "                     nan,   0.00000000e+00],\n",
       "       [  1.98600000e+03,              nan,              nan,\n",
       "                     nan,   5.00000000e-01],\n",
       "       ..., \n",
       "       [  1.98600000e+03,              nan,              nan,\n",
       "                     nan,   2.54000000e+00],\n",
       "       [  1.98700000e+03,              nan,              nan,\n",
       "                     nan,   0.00000000e+00],\n",
       "       [  1.98600000e+03,              nan,              nan,\n",
       "                     nan,   5.15000000e+00]])"
      ]
     },
     "execution_count": 1,
     "metadata": {},
     "output_type": "execute_result"
    }
   ],
   "source": [
    "import numpy\n",
    "world_alcohol = numpy.genfromtxt(\"world_alcohol.csv\", delimiter=\",\")\n",
    "world_alcohol\n",
    "#read a file into numpy\n"
   ]
  },
  {
   "cell_type": "code",
   "execution_count": 2,
   "metadata": {
    "collapsed": false
   },
   "outputs": [
    {
     "data": {
      "text/plain": [
       "(3258, 5)"
      ]
     },
     "execution_count": 2,
     "metadata": {},
     "output_type": "execute_result"
    }
   ],
   "source": [
    "world_alcohol.shape            #returns tuple of (rows,colums)\n",
    "\n",
    "#numpy.array() is constructor which can take list/list of lists to create vector/matrix\n",
    "\n",
    "#numpy data types\n",
    "#bool\n",
    "#int (16,32,64)\n",
    "#float (16, 32, 64)\n",
    "#string (string or unicode)\n",
    "\n",
    "#.dtype      returns datatype\n",
    "#na          not available\n",
    "#nan         not a number    \n",
    "\n",
    "#world_alcohol = numpy.genfromtxt(\"world_alcohol.csv\", delimiter=\",\", dtype='U75', skip_header=1)        specify parameters for delimiter, datatype, skip header\n",
    "\n",
    "#matrix[1,2]     accessing\n",
    "#vector[1]       accessing\n",
    "\n",
    "#vector[0:3]     slice vector\n",
    "#matrix[:,1]     slice all rows, second column\n",
    "#matrix[:,0:2]   all rows, first 2 colums\n",
    "#use == to return array/matrix with all boolean values\n",
    "\n",
    "#country_is_algeria = world_alcohol[:,2] == 'Algeria'\n",
    "#country_algeria = world_alcohol[country_is_algeria]\n",
    "#                can use the result of a comparison to return those values\n",
    "\n",
    "#equal_to_ten_and_five = (vector == 10) & (vector == 5)      multiple comparisons\n",
    "#equal_to_ten_or_five = (vector == 10) | (vector == 5)\n",
    "\n",
    "#vector[equal_to_ten_or_five] = 50       can also use to replace\n",
    "\n",
    "#vector.astype(float)    change array type\n",
    "\n",
    "#sum, mean, max         common computations with numpy\n",
    "#sum(axis=1)     perform on each row\n",
    "#sum(axis=0)     perform on each column"
   ]
  },
  {
   "cell_type": "code",
   "execution_count": null,
   "metadata": {
    "collapsed": true
   },
   "outputs": [],
   "source": []
  }
 ],
 "metadata": {
  "anaconda-cloud": {},
  "kernelspec": {
   "display_name": "Python [default]",
   "language": "python",
   "name": "python3"
  },
  "language_info": {
   "codemirror_mode": {
    "name": "ipython",
    "version": 3
   },
   "file_extension": ".py",
   "mimetype": "text/x-python",
   "name": "python",
   "nbconvert_exporter": "python",
   "pygments_lexer": "ipython3",
   "version": "3.5.2"
  }
 },
 "nbformat": 4,
 "nbformat_minor": 1
}
