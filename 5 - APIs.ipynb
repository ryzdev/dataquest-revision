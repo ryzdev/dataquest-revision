{
 "cells": [
  {
   "cell_type": "code",
   "execution_count": 15,
   "metadata": {
    "collapsed": false
   },
   "outputs": [
    {
     "data": {
      "text/plain": [
       "{'iss_position': {'latitude': '15.2697', 'longitude': '-23.8250'},\n",
       " 'message': 'success',\n",
       " 'timestamp': 1503222141}"
      ]
     },
     "execution_count": 15,
     "metadata": {},
     "output_type": "execute_result"
    }
   ],
   "source": [
    "import requests\n",
    "\n",
    "response = requests.get(\"http://api.open-notify.org/iss-now.json\", params={\"lat\": 37.78, \"lon\": -122.41}, headers = {'key': 'val'})  #   api call (with additional params and headers)\n",
    "\n",
    "response.json()\n",
    "\n",
    "# response.status_code    #access status code\n",
    "# response.contents       #get content\n",
    "# response.json()         #get content as a python object\n",
    "# response.headers\n",
    "\n",
    "# json.dumps(my_object)   #convert object to string\n",
    "# json.loads(my_json_string)      #convery string to object"
   ]
  },
  {
   "cell_type": "code",
   "execution_count": null,
   "metadata": {
    "collapsed": true
   },
   "outputs": [],
   "source": []
  }
 ],
 "metadata": {
  "anaconda-cloud": {},
  "kernelspec": {
   "display_name": "Python [default]",
   "language": "python",
   "name": "python3"
  },
  "language_info": {
   "codemirror_mode": {
    "name": "ipython",
    "version": 3
   },
   "file_extension": ".py",
   "mimetype": "text/x-python",
   "name": "python",
   "nbconvert_exporter": "python",
   "pygments_lexer": "ipython3",
   "version": "3.5.2"
  }
 },
 "nbformat": 4,
 "nbformat_minor": 1
}
