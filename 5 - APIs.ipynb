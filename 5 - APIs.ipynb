{
 "cells": [
  {
   "cell_type": "code",
   "execution_count": 20,
   "metadata": {
    "collapsed": false
   },
   "outputs": [
    {
     "name": "stdout",
     "output_type": "stream",
     "text": [
      "200\n",
      "{'Content-Length': '112', 'Content-Type': 'application/json', 'Connection': 'keep-alive', 'access-control-allow-origin': '*', 'Server': 'nginx/1.10.3', 'Date': 'Sat, 07 Oct 2017 12:16:19 GMT'}\n",
      "b'{\"iss_position\": {\"longitude\": \"57.5396\", \"latitude\": \"47.4324\"}, \"message\": \"success\", \"timestamp\": 1507378579}'\n",
      "\n",
      "<class 'dict'>\n",
      "{'iss_position': {'longitude': '57.5396', 'latitude': '47.4324'}, 'timestamp': 1507378579, 'message': 'success'}\n",
      "\n",
      "<class 'str'>\n",
      "{\"iss_position\": {\"longitude\": \"57.5396\", \"latitude\": \"47.4324\"}, \"timestamp\": 1507378579, \"message\": \"success\"}\n",
      "\n",
      "<class 'dict'>\n",
      "{'iss_position': {'longitude': '57.5396', 'latitude': '47.4324'}, 'timestamp': 1507378579, 'message': 'success'}\n"
     ]
    }
   ],
   "source": [
    "import requests\n",
    "import json\n",
    "\n",
    "response = requests.get(\"http://api.open-notify.org/iss-now.json\", params={\"lat\": 37.78, \"lon\": -122.41}, headers = {'key': 'val'})  #   api call (with additional params and headers)\n",
    "\n",
    "print(response.status_code)    #access status code\n",
    "print(response.headers)        #get headers\n",
    "print(response.content)       #get content\n",
    "print()\n",
    "\n",
    "iss_data = response.json() #get content as a python object\n",
    "print(type(iss_data))\n",
    "print(iss_data)\n",
    "print()\n",
    "\n",
    "iss_data_str = json.dumps(iss_data)\n",
    "print(type(iss_data_str))\n",
    "print(iss_data_str)\n",
    "print()\n",
    "\n",
    "back_to_obj = json.loads(iss_data_str)\n",
    "print(type(back_to_obj))\n",
    "print(back_to_obj)\n"
   ]
  },
  {
   "cell_type": "code",
   "execution_count": null,
   "metadata": {
    "collapsed": true
   },
   "outputs": [],
   "source": []
  }
 ],
 "metadata": {
  "anaconda-cloud": {},
  "kernelspec": {
   "display_name": "Python [default]",
   "language": "python",
   "name": "python3"
  },
  "language_info": {
   "codemirror_mode": {
    "name": "ipython",
    "version": 3
   },
   "file_extension": ".py",
   "mimetype": "text/x-python",
   "name": "python",
   "nbconvert_exporter": "python",
   "pygments_lexer": "ipython3",
   "version": "3.5.2"
  }
 },
 "nbformat": 4,
 "nbformat_minor": 1
}
