{
 "cells": [
  {
   "cell_type": "code",
   "execution_count": null,
   "metadata": {
    "collapsed": true
   },
   "outputs": [],
   "source": [
    "'''\n",
    "VISUALISATION\n",
    "\n",
    "unrate['DATE'] = pd.to_datetime(unrate['DATE'])     convert a column to datetime\n",
    "\n",
    "import matplotlib.pyplot as plt\n",
    "plt.plot(xvalues, yvalues)\n",
    "plt.xticks(rotation=90)     rotate x axis\n",
    "plt.xlabel('Month')\n",
    "plt.ylabel('Unemployment rate')\n",
    "plt.title(\"Monthly Unemployment Trends, 1948\")\n",
    "plt.show()\n",
    "\n",
    "'''"
   ]
  }
 ],
 "metadata": {
  "anaconda-cloud": {},
  "kernelspec": {
   "display_name": "Python [default]",
   "language": "python",
   "name": "python3"
  },
  "language_info": {
   "codemirror_mode": {
    "name": "ipython",
    "version": 3
   },
   "file_extension": ".py",
   "mimetype": "text/x-python",
   "name": "python",
   "nbconvert_exporter": "python",
   "pygments_lexer": "ipython3",
   "version": "3.5.2"
  }
 },
 "nbformat": 4,
 "nbformat_minor": 1
}
