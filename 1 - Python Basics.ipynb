{
 "cells": [
  {
   "cell_type": "markdown",
   "metadata": {},
   "source": [
    "The Python interpreter processes calculations in the following order:\n",
    "\n",
    "Calculations in parentheses.  \n",
    "Calculations using exponents.  \n",
    "Division or multiplication (these rank equally and are processed left to right in the order they appear).  \n",
    "Addition or subtraction (these also rank equally and are processed left to right in the order they appear).  \n",
    "\n"
   ]
  },
  {
   "cell_type": "raw",
   "metadata": {},
   "source": [
    "--- Basics ---\n",
    "\n",
    "list.append()\t\t\t\t\t\tadd to list\n",
    "\n",
    "methods, unlike functions, are called using dot notation\n",
    "\n",
    "len(myList)\t\t\t\t\t\t\tlength\n",
    "myList[2:4]\t\t\t\t\t\t\twill return values at index 2 & 3\n",
    "\n",
    "f = open(\"crime_rates.csv\", \"r\")\tcreate a file object\n",
    "string_data = f.read()\t\t\t\tread the file into a string\n",
    "\n",
    "rows = data.split('\\n') \t\t\t\\n or other delimiter\n",
    "\n",
    "found = False\t\t\t\t\t\tvariables and booleans\n",
    "\n",
    "highest = 0\n",
    "for rate in crime_rates:\n",
    "    if rate > highest:\n",
    "        highest = rate\t\t\t\tfind highest crime rate / 4 space indent\n",
    "\n",
    "\n",
    "weather_data = []\n",
    "for elem in open('la_weather.csv').read().split('\\n'):\n",
    "    weather_data.append(elem.split(','))\n",
    "    \t\t\t\t\t\t\t\tread, split, and convert into list of lists\n",
    "\n",
    "if \"cat\" in animals:\n",
    "    print(\"Cat found\")\t\t\t\tsearch list\n",
    "else:\t\t\t\t\t\t\t\telse\n",
    "\tprint(\"not here\")\t\t\t\t\n",
    "\n",
    "cat_found = \"cat\" in animals\t\tdirectly assign result of 'in'\n",
    "\n",
    "scores[\"Tom\"] = 70\t\t\t\t\tdictionaries\n",
    "\n",
    "can initialise with dict()\n",
    "\n",
    "story_string.replace(\".\",\"\")\t\tstring replace\n",
    "\n",
    "def clean_text(string_value):\n",
    "    cleaned_value = string_value.replace(\",\", \"\")\n",
    "    return(cleaned_value)\t\t\tfunction syntax\n",
    "\n",
    "str.lower()\t\t\t\t\t\t\tlowercase\n",
    "\n",
    "tokenize(clean=False, text_string = story_string)\n",
    "\t\t\t\t\t\t\t\t\tnamed arguments, can be in any order\n"
   ]
  },
  {
   "cell_type": "raw",
   "metadata": {},
   "source": [
    "Types of error\n",
    "\n",
    "SyntaxError\n",
    "IndentationError\n",
    "TypeError           wrong type e.g. concat string and int\n",
    "ValueError          wrong value e.g. cast \"bloop\" to int\n",
    "IndexError\n",
    "AttributeError      Call method or attribute on object whoch doesn't exist   "
   ]
  },
  {
   "cell_type": "raw",
   "metadata": {},
   "source": [
    "Jupyter\n",
    "\n",
    "state the var to output its contents (does not include \\n like print)\n",
    "sh + enter          run code / create new cell\n",
    "restart kernel      restarts the session, clear all vars etc"
   ]
  },
  {
   "cell_type": "code",
   "execution_count": null,
   "metadata": {
    "collapsed": true
   },
   "outputs": [],
   "source": []
  }
 ],
 "metadata": {
  "anaconda-cloud": {},
  "kernelspec": {
   "display_name": "Python [default]",
   "language": "python",
   "name": "python3"
  },
  "language_info": {
   "codemirror_mode": {
    "name": "ipython",
    "version": 3
   },
   "file_extension": ".py",
   "mimetype": "text/x-python",
   "name": "python",
   "nbconvert_exporter": "python",
   "pygments_lexer": "ipython3",
   "version": "3.5.2"
  }
 },
 "nbformat": 4,
 "nbformat_minor": 1
}
