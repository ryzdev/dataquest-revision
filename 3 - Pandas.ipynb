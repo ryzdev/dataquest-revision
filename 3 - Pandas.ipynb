{
 "cells": [
  {
   "cell_type": "code",
   "execution_count": null,
   "metadata": {
    "collapsed": true
   },
   "outputs": [],
   "source": [
    "# object-types\n",
    "\n",
    "# object - for representing string values.\n",
    "# int - for representing integer values.\n",
    "# float - for representing float values.\n",
    "# datetime - for representing time values.\n",
    "# bool - for representing Boolean values."
   ]
  },
  {
   "cell_type": "code",
   "execution_count": 10,
   "metadata": {
    "collapsed": false
   },
   "outputs": [
    {
     "name": "stdout",
     "output_type": "stream",
     "text": [
      "   Year       WHO region                Country Beverage Types  Display Value\n",
      "0  1986  Western Pacific               Viet Nam           Wine           0.00\n",
      "1  1986         Americas                Uruguay          Other           0.50\n",
      "2  1985           Africa           Cte d'Ivoire           Wine           1.62\n",
      "3  1986         Americas               Colombia           Beer           4.27\n",
      "4  1987         Americas  Saint Kitts and Nevis           Beer           1.98\n",
      "\n",
      "Index(['Year', 'WHO region', 'Country', 'Beverage Types', 'Display Value'], dtype='object')\n",
      "\n",
      "(3257, 5)\n",
      "\n",
      "Year                   1987\n",
      "WHO region           Africa\n",
      "Country           Mauritius\n",
      "Beverage Types         Wine\n",
      "Display Value          0.13\n",
      "Name: 6, dtype: object\n",
      "\n"
     ]
    },
    {
     "data": {
      "text/plain": [
       "0                                                Viet Nam\n",
       "1                                                 Uruguay\n",
       "2                                            Cte d'Ivoire\n",
       "3                                                Colombia\n",
       "4                                   Saint Kitts and Nevis\n",
       "5                                               Guatemala\n",
       "6                                               Mauritius\n",
       "7                                                  Angola\n",
       "8                                     Antigua and Barbuda\n",
       "9                                                 Nigeria\n",
       "10                                               Botswana\n",
       "11                                              Guatemala\n",
       "12                       Lao People's Democratic Republic\n",
       "13                                            Afghanistan\n",
       "14                                               Viet Nam\n",
       "15                                          Guinea-Bissau\n",
       "16                                             Costa Rica\n",
       "17                                             Seychelles\n",
       "18                                                 Norway\n",
       "19                                                  Kenya\n",
       "20                                                Myanmar\n",
       "21                                             Costa Rica\n",
       "22                                                Romania\n",
       "23                                                 Turkey\n",
       "24                                                Comoros\n",
       "25                                                Tunisia\n",
       "26      United Kingdom of Great Britain and Northern I...\n",
       "27                                                Bahrain\n",
       "28                                               Viet Nam\n",
       "29                                                  Italy\n",
       "                              ...                        \n",
       "3227                     Bolivia (Plurinational State of)\n",
       "3228                                           Madagascar\n",
       "3229                     Bolivia (Plurinational State of)\n",
       "3230                                               France\n",
       "3231                                              Morocco\n",
       "3232                                             Paraguay\n",
       "3233                                       Czech Republic\n",
       "3234                                                 Fiji\n",
       "3235                                               Belize\n",
       "3236                                           Seychelles\n",
       "3237                                               Canada\n",
       "3238                                                 Fiji\n",
       "3239                                             Viet Nam\n",
       "3240                                             Slovenia\n",
       "3241                                             Djibouti\n",
       "3242                                               Poland\n",
       "3243                                             Slovakia\n",
       "3244                                 United Arab Emirates\n",
       "3245                                                India\n",
       "3246                                               Poland\n",
       "3247                                               Latvia\n",
       "3248                                             Bulgaria\n",
       "3249                                               Turkey\n",
       "3250                                              Iceland\n",
       "3251                                               Angola\n",
       "3252                             Central African Republic\n",
       "3253                                                 Fiji\n",
       "3254                                          Switzerland\n",
       "3255                                     Papua New Guinea\n",
       "3256                                            Swaziland\n",
       "Name: Country, dtype: object"
      ]
     },
     "execution_count": 10,
     "metadata": {},
     "output_type": "execute_result"
    }
   ],
   "source": [
    "import pandas\n",
    "df = pandas.read_csv(\"world_alcohol.csv\")     # read into dataframe\n",
    "\n",
    "print(df.head())                       # first 5 rows, can also specify\n",
    "print()\n",
    "\n",
    "print(df.columns)      # display full list of columns\n",
    "print()\n",
    "\n",
    "print(df.shape)    # info of rows, colums\n",
    "print()\n",
    "\n",
    "print(df.loc[6])   # get row, can pass in slice or list\n",
    "print()\n",
    "\n",
    "df[\"Country\"]   #  retrieve a single column (pass in list for multiple)"
   ]
  },
  {
   "cell_type": "code",
   "execution_count": null,
   "metadata": {
    "collapsed": true
   },
   "outputs": [],
   "source": []
  }
 ],
 "metadata": {
  "anaconda-cloud": {},
  "kernelspec": {
   "display_name": "Python [default]",
   "language": "python",
   "name": "python3"
  },
  "language_info": {
   "codemirror_mode": {
    "name": "ipython",
    "version": 3
   },
   "file_extension": ".py",
   "mimetype": "text/x-python",
   "name": "python",
   "nbconvert_exporter": "python",
   "pygments_lexer": "ipython3",
   "version": "3.5.2"
  }
 },
 "nbformat": 4,
 "nbformat_minor": 1
}
