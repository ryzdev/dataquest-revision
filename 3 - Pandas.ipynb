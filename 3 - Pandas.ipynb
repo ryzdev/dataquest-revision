{
 "cells": [
  {
   "cell_type": "code",
   "execution_count": 1,
   "metadata": {
    "collapsed": false
   },
   "outputs": [
    {
     "data": {
      "text/plain": [
       "'\\npandas\\n\\nimport pandas\\npandas.read_csv(\"crime_rates.csv\")      read into dataframe\\nfood_info.head()                        first 5 rows (can also specify)\\nfood_info.columns       display full list of columns\\nfood_info.shape     info of rows, colums\\nfood_info.loc[6]    get row (can pass in slice or list)\\n\\nobject-types\\nobject - for representing string values.\\nint - for representing integer values.\\nfloat - for representing float values.\\ndatetime - for representing time values.\\nbool - for representing Boolean values.\\n\\nfood_info[\"NDB_No\"]     retrieve a singel column (pass in list for multiple)\\n'"
      ]
     },
     "execution_count": 1,
     "metadata": {},
     "output_type": "execute_result"
    }
   ],
   "source": [
    "'''\n",
    "import pandas\n",
    "pandas.read_csv(\"crime_rates.csv\")      read into dataframe\n",
    "food_info.head()                        first 5 rows (can also specify)\n",
    "food_info.columns       display full list of columns\n",
    "food_info.shape     info of rows, colums\n",
    "food_info.loc[6]    get row (can pass in slice or list)\n",
    "\n",
    "object-types\n",
    "object - for representing string values.\n",
    "int - for representing integer values.\n",
    "float - for representing float values.\n",
    "datetime - for representing time values.\n",
    "bool - for representing Boolean values.\n",
    "\n",
    "food_info[\"NDB_No\"]     retrieve a singel column (pass in list for multiple)\n",
    "'''"
   ]
  },
  {
   "cell_type": "code",
   "execution_count": null,
   "metadata": {
    "collapsed": true
   },
   "outputs": [],
   "source": []
  }
 ],
 "metadata": {
  "anaconda-cloud": {},
  "kernelspec": {
   "display_name": "Python [default]",
   "language": "python",
   "name": "python3"
  },
  "language_info": {
   "codemirror_mode": {
    "name": "ipython",
    "version": 3
   },
   "file_extension": ".py",
   "mimetype": "text/x-python",
   "name": "python",
   "nbconvert_exporter": "python",
   "pygments_lexer": "ipython3",
   "version": "3.5.2"
  }
 },
 "nbformat": 4,
 "nbformat_minor": 1
}
