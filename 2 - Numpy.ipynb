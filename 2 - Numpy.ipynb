{
 "cells": [
  {
   "cell_type": "code",
   "execution_count": 1,
   "metadata": {
    "collapsed": false
   },
   "outputs": [],
   "source": [
    "# two dimensional array = matrix\n",
    "# numpy arrays need the same data type\n",
    "\n",
    "#numpy data types\n",
    "#bool\n",
    "#int (16,32,64)\n",
    "#float (16, 32, 64)\n",
    "#string (string or unicode)\n",
    "\n",
    "#.dtype      returns datatype\n",
    "#na          not available\n",
    "#nan         not a number    "
   ]
  },
  {
   "cell_type": "code",
   "execution_count": 2,
   "metadata": {
    "collapsed": false
   },
   "outputs": [
    {
     "name": "stdout",
     "output_type": "stream",
     "text": [
      "b\n",
      "c\n",
      "(2, 2)\n"
     ]
    }
   ],
   "source": [
    "#numpy.array() is constructor which can take list/list of lists to create vector/matrix\n",
    "\n",
    "import numpy\n",
    "\n",
    "a_vector = numpy.array(['a', 'b', 'c'])\n",
    "print(a_vector[1])\n",
    "\n",
    "a_matrix = numpy.array([['a', 'b'], ['c', 'd']])\n",
    "print(a_matrix[1,0])\n",
    "\n",
    "print(a_matrix.shape)"
   ]
  },
  {
   "cell_type": "code",
   "execution_count": 3,
   "metadata": {
    "collapsed": false
   },
   "outputs": [
    {
     "name": "stdout",
     "output_type": "stream",
     "text": [
      "[['1986' 'Western Pacific' 'Viet Nam' 'Wine' '0']\n",
      " ['1986' 'Americas' 'Uruguay' 'Other' '0.5']\n",
      " ['1985' 'Africa' \"Cte d'Ivoire\" 'Wine' '1.62']\n",
      " ..., \n",
      " ['1986' 'Europe' 'Switzerland' 'Spirits' '2.54']\n",
      " ['1987' 'Western Pacific' 'Papua New Guinea' 'Other' '0']\n",
      " ['1986' 'Africa' 'Swaziland' 'Other' '5.15']]\n",
      "\n",
      "[['1986' 'Western Pacific' 'Viet Nam' 'Wine' '0']\n",
      " ['1986' 'Americas' 'Uruguay' 'Other' '0.5']]\n",
      "\n",
      "['Western Pacific' 'Americas' 'Africa' ..., 'Europe' 'Western Pacific'\n",
      " 'Africa']\n",
      "\n",
      "[['1986' 'Western Pacific']\n",
      " ['1986' 'Americas']\n",
      " ['1985' 'Africa']\n",
      " ..., \n",
      " ['1986' 'Europe']\n",
      " ['1987' 'Western Pacific']\n",
      " ['1986' 'Africa']]\n",
      "\n",
      "[['Western Pacific' '0']\n",
      " ['Americas' '0.5']\n",
      " ['Africa' '1.62']\n",
      " ..., \n",
      " ['Europe' '2.54']\n",
      " ['Western Pacific' '0']\n",
      " ['Africa' '5.15']]\n",
      "\n",
      "[['1986' 'Wine']\n",
      " ['1986' 'Other']\n",
      " ['1985' 'Wine']\n",
      " ..., \n",
      " ['1986' 'Spirits']\n",
      " ['1987' 'Other']\n",
      " ['1986' 'Other']]\n"
     ]
    }
   ],
   "source": [
    "# read a file into numpy\n",
    "# specify parameters for delimiter, datatype, skip header\n",
    "\n",
    "world_alcohol = numpy.genfromtxt(\"world_alcohol.csv\", delimiter=\",\", dtype='U75', skip_header=1)\n",
    "\n",
    "print(world_alcohol)\n",
    "print()\n",
    "\n",
    "print(world_alcohol[0:2])     # slice first 2 rows\n",
    "print()\n",
    "\n",
    "print(world_alcohol[:,1])     # slice all rows, second column\n",
    "print()\n",
    "\n",
    "print(world_alcohol[:,0:2])   # all rows, first 2 colums\n",
    "print()\n",
    "\n",
    "print(world_alcohol[:,[1,4]]) # all rows, first and 5th column\n",
    "print()\n",
    "\n",
    "print(world_alcohol[:,0::3]) # all rows, first and 5th column, alternative specifying stride"
   ]
  },
  {
   "cell_type": "code",
   "execution_count": 4,
   "metadata": {
    "collapsed": false
   },
   "outputs": [
    {
     "name": "stdout",
     "output_type": "stream",
     "text": [
      "[False False False ..., False False False]\n",
      "\n",
      "[['1984' 'Africa' 'Algeria' 'Spirits' '0.01']\n",
      " ['1987' 'Africa' 'Algeria' 'Beer' '0.17']\n",
      " ['1987' 'Africa' 'Algeria' 'Spirits' '0.01']\n",
      " ['1986' 'Africa' 'Algeria' 'Wine' '0.1']\n",
      " ['1984' 'Africa' 'Algeria' 'Other' '0']\n",
      " ['1989' 'Africa' 'Algeria' 'Beer' '0.16']\n",
      " ['1989' 'Africa' 'Algeria' 'Spirits' '0.01']\n",
      " ['1989' 'Africa' 'Algeria' 'Wine' '0.23']\n",
      " ['1986' 'Africa' 'Algeria' 'Spirits' '0.01']\n",
      " ['1984' 'Africa' 'Algeria' 'Wine' '0.12']\n",
      " ['1985' 'Africa' 'Algeria' 'Beer' '0.19']\n",
      " ['1985' 'Africa' 'Algeria' 'Other' '0']\n",
      " ['1986' 'Africa' 'Algeria' 'Beer' '0.18']\n",
      " ['1985' 'Africa' 'Algeria' 'Wine' '0.11']\n",
      " ['1986' 'Africa' 'Algeria' 'Other' '0']\n",
      " ['1989' 'Africa' 'Algeria' 'Other' '0']\n",
      " ['1987' 'Africa' 'Algeria' 'Other' '0']\n",
      " ['1984' 'Africa' 'Algeria' 'Beer' '0.2']\n",
      " ['1985' 'Africa' 'Algeria' 'Spirits' '0.01']\n",
      " ['1987' 'Africa' 'Algeria' 'Wine' '0.1']]\n"
     ]
    }
   ],
   "source": [
    "# finding values\n",
    "\n",
    "country_is_algeria = world_alcohol[:,2] == 'Algeria' # return array with all boolean values\n",
    "print(country_is_algeria)\n",
    "print()\n",
    "\n",
    "country_algeria = world_alcohol[country_is_algeria] # can use the result of a comparison to return those values\n",
    "print(country_algeria)\n"
   ]
  },
  {
   "cell_type": "code",
   "execution_count": 5,
   "metadata": {
    "collapsed": false
   },
   "outputs": [
    {
     "name": "stdout",
     "output_type": "stream",
     "text": [
      "[False False False False False False False False False False]\n",
      "[False False False False  True False False False False  True]\n",
      "[ 1  2  3  4 50  6  7  8  9 50]\n",
      "[  1.   2.   3.   4.  50.   6.   7.   8.   9.  50.]\n"
     ]
    }
   ],
   "source": [
    "# working with vectors\n",
    "\n",
    "v = numpy.array(range(1,11))\n",
    "\n",
    "equal_to_ten_and_five = (v == 10) & (v == 5) # multiple comparisons\n",
    "print(equal_to_ten_and_five)\n",
    "\n",
    "equal_to_ten_or_five = (v == 10) | (v == 5)\n",
    "print(equal_to_ten_or_five)\n",
    "\n",
    "v[equal_to_ten_or_five] = 50     #  can also use to replace\n",
    "print(v)\n",
    "\n",
    "v_float = v.astype(float)   # change array type\n",
    "print(v_float)\n"
   ]
  },
  {
   "cell_type": "code",
   "execution_count": 6,
   "metadata": {
    "collapsed": false
   },
   "outputs": [
    {
     "name": "stdout",
     "output_type": "stream",
     "text": [
      "55\n",
      "5.5\n",
      "1\n",
      "10\n",
      "[111 222 333]\n",
      "[  6  60 600]\n"
     ]
    }
   ],
   "source": [
    "# common computations\n",
    "\n",
    "v = numpy.array(range(1,11))\n",
    "\n",
    "print(numpy.sum(v))\n",
    "print(numpy.mean(v))\n",
    "print(numpy.min(v))\n",
    "print(numpy.max(v))\n",
    "\n",
    "vals = numpy.array([[1,2,3], [10,20,30], [100, 200, 300]])\n",
    "print(vals.sum(axis=0)) # perform on each column\n",
    "print(vals.sum(axis=1)) # perform on each row\n"
   ]
  },
  {
   "cell_type": "code",
   "execution_count": 7,
   "metadata": {
    "collapsed": false
   },
   "outputs": [
    {
     "name": "stdout",
     "output_type": "stream",
     "text": [
      "[['1984' 'Europe' 'Poland' 'Spirits' '5.32']\n",
      " ['1985' 'Europe' 'Poland' 'Spirits' '5.47']\n",
      " ['1986' 'Europe' 'Poland' 'Spirits' '6.02']\n",
      " ['1987' 'Europe' 'Poland' 'Spirits' '6.18']\n",
      " ['1989' 'Europe' 'Poland' 'Spirits' '6.08']]\n",
      "5.814\n"
     ]
    }
   ],
   "source": [
    "# Example: spririts consumed in Poland\n",
    "\n",
    "is_poland = (world_alcohol[:,2] == 'Poland') & (world_alcohol[:,3] == 'Spirits')\n",
    "poland = world_alcohol[is_poland]\n",
    "\n",
    "spirits = poland[poland[:,0].argsort()]\n",
    "print(spirits)\n",
    "\n",
    "spirits_average = spirits[:,4].astype(float).mean()\n",
    "print(spirits_average)"
   ]
  },
  {
   "cell_type": "code",
   "execution_count": null,
   "metadata": {
    "collapsed": true
   },
   "outputs": [],
   "source": []
  }
 ],
 "metadata": {
  "anaconda-cloud": {},
  "kernelspec": {
   "display_name": "Python [default]",
   "language": "python",
   "name": "python3"
  },
  "language_info": {
   "codemirror_mode": {
    "name": "ipython",
    "version": 3
   },
   "file_extension": ".py",
   "mimetype": "text/x-python",
   "name": "python",
   "nbconvert_exporter": "python",
   "pygments_lexer": "ipython3",
   "version": "3.5.2"
  }
 },
 "nbformat": 4,
 "nbformat_minor": 1
}
